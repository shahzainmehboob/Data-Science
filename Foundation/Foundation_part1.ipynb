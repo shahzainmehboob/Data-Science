{
 "cells": [
  {
   "cell_type": "markdown",
   "metadata": {},
   "source": [
    "# Foundation Part I"
   ]
  },
  {
   "cell_type": "markdown",
   "metadata": {},
   "source": [
    "## Jupyter Notebook Python Demo"
   ]
  },
  {
   "cell_type": "markdown",
   "metadata": {},
   "source": [
    "The Jupiter Notebook is an interactive environment for executing code through the browser. It is a tool for invented data analysis. In a Jupiter Notebook you can easily embed code, text and graphical elements. "
   ]
  },
  {
   "cell_type": "markdown",
   "metadata": {},
   "source": [
    "### Examples: Python Syntax"
   ]
  },
  {
   "cell_type": "code",
   "execution_count": 1,
   "metadata": {},
   "outputs": [
    {
     "data": {
      "text/plain": [
       "'\\nThis is \\na \\nmultiline comment\\n'"
      ]
     },
     "execution_count": 1,
     "metadata": {},
     "output_type": "execute_result"
    }
   ],
   "source": [
    "# single line comment\n",
    "\n",
    "\"\"\"\n",
    "This is \n",
    "a \n",
    "multiline comment\n",
    "\"\"\"\n"
   ]
  },
  {
   "cell_type": "code",
   "execution_count": 2,
   "metadata": {},
   "outputs": [],
   "source": [
    "# variable assignment \n",
    "A = 1"
   ]
  },
  {
   "cell_type": "code",
   "execution_count": 3,
   "metadata": {},
   "outputs": [],
   "source": [
    "# multiple variable assignment\n",
    "B, C = 2, 3"
   ]
  },
  {
   "cell_type": "code",
   "execution_count": 5,
   "metadata": {},
   "outputs": [
    {
     "name": "stdout",
     "output_type": "stream",
     "text": [
      "A + B + C is  6\n"
     ]
    }
   ],
   "source": [
    "# printing sum\n",
    "print(\"A + B + C is \", A+B+C)"
   ]
  },
  {
   "cell_type": "code",
   "execution_count": 5,
   "metadata": {},
   "outputs": [
    {
     "name": "stdout",
     "output_type": "stream",
     "text": [
      " C  B is  2 3\n"
     ]
    }
   ],
   "source": [
    "# swap variables in one line\n",
    "C, B = B, C\n",
    "\n",
    "print(\" C  B is \", C,B)"
   ]
  },
  {
   "cell_type": "markdown",
   "metadata": {},
   "source": [
    "### Example on Python Data types"
   ]
  },
  {
   "cell_type": "code",
   "execution_count": 6,
   "metadata": {},
   "outputs": [
    {
     "name": "stdout",
     "output_type": "stream",
     "text": [
      "[1, 3.14159265835, 'hello', ['world']]\n"
     ]
    }
   ],
   "source": [
    "# python largely uses duck typing\n",
    "lst = [1,3.14159265835,\"hello\",[\"world\"]]\n",
    "print(lst)"
   ]
  },
  {
   "cell_type": "code",
   "execution_count": 10,
   "metadata": {},
   "outputs": [
    {
     "name": "stdout",
     "output_type": "stream",
     "text": [
      "1\n"
     ]
    }
   ],
   "source": [
    "# array access\n",
    "print(lst[0])\n"
   ]
  },
  {
   "cell_type": "code",
   "execution_count": 11,
   "metadata": {},
   "outputs": [
    {
     "name": "stdout",
     "output_type": "stream",
     "text": [
      "[1, 2]\n"
     ]
    }
   ],
   "source": [
    "# array concatenation\n",
    "print([1] + [2])"
   ]
  },
  {
   "cell_type": "code",
   "execution_count": 9,
   "metadata": {},
   "outputs": [
    {
     "name": "stdout",
     "output_type": "stream",
     "text": [
      "[1, 1, 1, 1, 1]\n"
     ]
    }
   ],
   "source": [
    "# array concatenation\n",
    "print([1]*5)"
   ]
  },
  {
   "cell_type": "code",
   "execution_count": 21,
   "metadata": {},
   "outputs": [
    {
     "name": "stdout",
     "output_type": "stream",
     "text": [
      "range(0, 10)\n"
     ]
    }
   ],
   "source": [
    "lst = range(10)\n",
    "print(lst)"
   ]
  },
  {
   "cell_type": "code",
   "execution_count": 18,
   "metadata": {},
   "outputs": [
    {
     "name": "stdout",
     "output_type": "stream",
     "text": [
      "range(0, 10)\n"
     ]
    }
   ],
   "source": [
    "# slice access\n",
    "print(lst[:])"
   ]
  },
  {
   "cell_type": "code",
   "execution_count": 19,
   "metadata": {},
   "outputs": [
    {
     "name": "stdout",
     "output_type": "stream",
     "text": [
      "9\n"
     ]
    }
   ],
   "source": [
    "# -1: last item, -2: one before last, etc\n",
    "print(lst[-1])"
   ]
  },
  {
   "cell_type": "code",
   "execution_count": 20,
   "metadata": {},
   "outputs": [
    {
     "name": "stdout",
     "output_type": "stream",
     "text": [
      "1\n",
      "one\n",
      "3.1415926535\n"
     ]
    }
   ],
   "source": [
    "# create dictionary and access its values\n",
    "dct = {'1':1, 1:'one', 'pi':3.1415926535}\n",
    "print(dct['1'])\n",
    "print(dct[1])\n",
    "print(dct['pi'])"
   ]
  },
  {
   "cell_type": "markdown",
   "metadata": {},
   "source": [
    "### Examples on Python Strings"
   ]
  },
  {
   "cell_type": "code",
   "execution_count": 22,
   "metadata": {},
   "outputs": [
    {
     "name": "stdout",
     "output_type": "stream",
     "text": [
      "hello world\n",
      "value:{'key': 123}\n",
      "value: 123\n"
     ]
    }
   ],
   "source": [
    "st = \"hello world\"\n",
    "\n",
    "print(st)\n",
    "\n",
    "# multiline string\n",
    "st = \"\"\"\n",
    "hello world\n",
    "\"\"\"\n",
    "dct = {'key':123}\n",
    "print(\"value:\" + str({'key':123}))\n",
    "print(\"value:\", dct['key'])"
   ]
  },
  {
   "cell_type": "markdown",
   "metadata": {},
   "source": [
    "### Examples on Python loop and execution flow"
   ]
  },
  {
   "cell_type": "code",
   "execution_count": 29,
   "metadata": {},
   "outputs": [
    {
     "name": "stdout",
     "output_type": "stream",
     "text": [
      "3\n",
      "4\n",
      "12osama45678\n"
     ]
    }
   ],
   "source": [
    "arr = [1,2,'osama',4,5,6,7,8]\n",
    "\n",
    "# for loop with conditions\n",
    "for i in range(len(arr)):\n",
    "    if i > 7:\n",
    "        break\n",
    "    elif i in [3,4]:\n",
    "        print(i)\n",
    "    else:\n",
    "        continue;\n",
    "\n",
    "st = \"\"\n",
    "for val in arr:\n",
    "    st = st + str(val)\n",
    "\n",
    "print(st)"
   ]
  },
  {
   "cell_type": "markdown",
   "metadata": {},
   "source": [
    "### Example on function Definiton"
   ]
  },
  {
   "cell_type": "code",
   "execution_count": 3,
   "metadata": {},
   "outputs": [
    {
     "name": "stdout",
     "output_type": "stream",
     "text": [
      "2\n",
      "1 you passed none\n",
      "(1, 'you passed none')\n"
     ]
    }
   ],
   "source": [
    "# example function definition\n",
    "def fnc(a, b=None, c=\"asdf\"):\n",
    "    if not b is None:\n",
    "        return a+b\n",
    "    else:\n",
    "        return a, \"you passed none\"\n",
    "\n",
    "result = fnc(1,1)\n",
    "print(result)\n",
    "\n",
    "result, message = fnc(1)\n",
    "print(result, message)\n",
    "\n",
    "print(fnc(a=1, c=\"value\"))"
   ]
  },
  {
   "cell_type": "markdown",
   "metadata": {},
   "source": [
    "### Example on Classes in python"
   ]
  },
  {
   "cell_type": "code",
   "execution_count": 6,
   "metadata": {},
   "outputs": [
    {
     "name": "stdout",
     "output_type": "stream",
     "text": [
      "hello world\n",
      "hello\n",
      "world\n"
     ]
    }
   ],
   "source": [
    "# class declaration\n",
    "class MyClass():\n",
    "    def __init__(self, value):\n",
    "        # this is how to define new class field\n",
    "        self.var = value\n",
    "    def myfunction(self, arg):\n",
    "        self.arg = arg\n",
    "        return self.var + \" \" + self.arg\n",
    "\n",
    "if __name__ == \"__main__\":\n",
    "    cls = MyClass(\"hello\")\n",
    "    print(cls.myfunction(\"world\"))\n",
    "    print(cls.var)\n",
    "    print(cls.arg)"
   ]
  },
  {
   "cell_type": "markdown",
   "metadata": {},
   "source": [
    "### Examples on import in python"
   ]
  },
  {
   "cell_type": "code",
   "execution_count": 10,
   "metadata": {},
   "outputs": [
    {
     "name": "stdout",
     "output_type": "stream",
     "text": [
      "25\n"
     ]
    }
   ],
   "source": [
    "# built in import\n",
    "import random\n",
    "print (random.randint(1,100))"
   ]
  },
  {
   "cell_type": "code",
   "execution_count": 14,
   "metadata": {},
   "outputs": [
    {
     "name": "stdout",
     "output_type": "stream",
     "text": [
      "[0 1 2 3 4 5 6 7 8]\n"
     ]
    }
   ],
   "source": [
    "# import numpy library\n",
    "import numpy as np\n",
    "x = np.arange(9)\n",
    "print(x)"
   ]
  },
  {
   "cell_type": "markdown",
   "metadata": {},
   "source": [
    "### Examples on File operations in python"
   ]
  },
  {
   "cell_type": "code",
   "execution_count": 15,
   "metadata": {},
   "outputs": [
    {
     "name": "stdout",
     "output_type": "stream",
     "text": [
      "hello world\n",
      "{1: '2', 2: '[3.1415]'}\n"
     ]
    }
   ],
   "source": [
    "# write to file\n",
    "with open(\"f.txt\",\"w\") as f:\n",
    "    f.write(\"hello world\")\n",
    "\n",
    "# read from file\n",
    "with open(\"f.txt\",\"r\") as f:\n",
    "    print(f.read())\n",
    "\n",
    "# this can be used to save python objects\n",
    "import pickle as pc\n",
    "\n",
    "# serialize array to file\n",
    "pc.dump( {1:'2', 2:'[3.1415]'} , open(\"f.bin\",\"wb\"))\n",
    "\n",
    "# deserialize\n",
    "print(pc.load(open(\"f.bin\",\"rb\")))"
   ]
  },
  {
   "cell_type": "code",
   "execution_count": null,
   "metadata": {},
   "outputs": [],
   "source": []
  }
 ],
 "metadata": {
  "kernelspec": {
   "display_name": "Python 3",
   "language": "python",
   "name": "python3"
  },
  "language_info": {
   "codemirror_mode": {
    "name": "ipython",
    "version": 3
   },
   "file_extension": ".py",
   "mimetype": "text/x-python",
   "name": "python",
   "nbconvert_exporter": "python",
   "pygments_lexer": "ipython3",
   "version": "3.6.9"
  }
 },
 "nbformat": 4,
 "nbformat_minor": 2
}
